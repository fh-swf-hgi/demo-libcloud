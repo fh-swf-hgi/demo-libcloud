{
 "cells": [
  {
   "cell_type": "code",
   "execution_count": null,
   "metadata": {},
   "outputs": [],
   "source": [
    "#!pip install apache-libcloud"
   ]
  },
  {
   "cell_type": "code",
   "execution_count": 1,
   "metadata": {},
   "outputs": [],
   "source": [
    "from libcloud.compute.types import Provider\n",
    "from libcloud.compute.providers import get_driver\n",
    "Driver = get_driver(Provider.GCE)"
   ]
  },
  {
   "cell_type": "code",
   "execution_count": 2,
   "metadata": {},
   "outputs": [
    {
     "ename": "ValueError",
     "evalue": "Missing (or not readable) key file: 'modul-cloud-computing-44de9085eea8.json'",
     "output_type": "error",
     "traceback": [
      "\u001b[1;31m---------------------------------------------------------------------------\u001b[0m",
      "\u001b[1;31mValueError\u001b[0m                                Traceback (most recent call last)",
      "\u001b[1;32m<ipython-input-2-8a8fcbc9223f>\u001b[0m in \u001b[0;36m<module>\u001b[1;34m\u001b[0m\n\u001b[0;32m      2\u001b[0m              \u001b[1;34m'modul-cloud-computing-44de9085eea8.json'\u001b[0m\u001b[1;33m,\u001b[0m\u001b[1;33m\u001b[0m\u001b[1;33m\u001b[0m\u001b[0m\n\u001b[0;32m      3\u001b[0m              \u001b[0mdatacenter\u001b[0m\u001b[1;33m=\u001b[0m\u001b[1;34m'us-east1-b'\u001b[0m\u001b[1;33m,\u001b[0m\u001b[1;33m\u001b[0m\u001b[1;33m\u001b[0m\u001b[0m\n\u001b[1;32m----> 4\u001b[1;33m              project='337991600205')\n\u001b[0m",
      "\u001b[1;32m~\\Anaconda3\\lib\\site-packages\\libcloud\\compute\\drivers\\gce.py\u001b[0m in \u001b[0;36m__init__\u001b[1;34m(self, user_id, key, datacenter, project, auth_type, scopes, credential_file, **kwargs)\u001b[0m\n\u001b[0;32m   1897\u001b[0m             \u001b[0mGoogleOAuth2Credential\u001b[0m\u001b[1;33m.\u001b[0m\u001b[0mdefault_credential_file\u001b[0m \u001b[1;33m+\u001b[0m \u001b[1;34m'.'\u001b[0m \u001b[1;33m+\u001b[0m \u001b[0mself\u001b[0m\u001b[1;33m.\u001b[0m\u001b[0mproject\u001b[0m\u001b[1;33m\u001b[0m\u001b[1;33m\u001b[0m\u001b[0m\n\u001b[0;32m   1898\u001b[0m \u001b[1;33m\u001b[0m\u001b[0m\n\u001b[1;32m-> 1899\u001b[1;33m         \u001b[0msuper\u001b[0m\u001b[1;33m(\u001b[0m\u001b[0mGCENodeDriver\u001b[0m\u001b[1;33m,\u001b[0m \u001b[0mself\u001b[0m\u001b[1;33m)\u001b[0m\u001b[1;33m.\u001b[0m\u001b[0m__init__\u001b[0m\u001b[1;33m(\u001b[0m\u001b[0muser_id\u001b[0m\u001b[1;33m,\u001b[0m \u001b[0mkey\u001b[0m\u001b[1;33m,\u001b[0m \u001b[1;33m**\u001b[0m\u001b[0mkwargs\u001b[0m\u001b[1;33m)\u001b[0m\u001b[1;33m\u001b[0m\u001b[1;33m\u001b[0m\u001b[0m\n\u001b[0m\u001b[0;32m   1900\u001b[0m \u001b[1;33m\u001b[0m\u001b[0m\n\u001b[0;32m   1901\u001b[0m         \u001b[1;31m# Cache Zone and Region information to reduce API calls and\u001b[0m\u001b[1;33m\u001b[0m\u001b[1;33m\u001b[0m\u001b[1;33m\u001b[0m\u001b[0m\n",
      "\u001b[1;32m~\\Anaconda3\\lib\\site-packages\\libcloud\\common\\base.py\u001b[0m in \u001b[0;36m__init__\u001b[1;34m(self, key, secret, secure, host, port, api_version, region, **kwargs)\u001b[0m\n\u001b[0;32m    984\u001b[0m                             \u001b[1;34m'backoff'\u001b[0m\u001b[1;33m:\u001b[0m \u001b[0mkwargs\u001b[0m\u001b[1;33m.\u001b[0m\u001b[0mpop\u001b[0m\u001b[1;33m(\u001b[0m\u001b[1;34m'backoff'\u001b[0m\u001b[1;33m,\u001b[0m \u001b[1;32mNone\u001b[0m\u001b[1;33m)\u001b[0m\u001b[1;33m,\u001b[0m\u001b[1;33m\u001b[0m\u001b[1;33m\u001b[0m\u001b[0m\n\u001b[0;32m    985\u001b[0m                             'proxy_url': kwargs.pop('proxy_url', None)})\n\u001b[1;32m--> 986\u001b[1;33m         \u001b[0mself\u001b[0m\u001b[1;33m.\u001b[0m\u001b[0mconnection\u001b[0m \u001b[1;33m=\u001b[0m \u001b[0mself\u001b[0m\u001b[1;33m.\u001b[0m\u001b[0mconnectionCls\u001b[0m\u001b[1;33m(\u001b[0m\u001b[1;33m*\u001b[0m\u001b[0margs\u001b[0m\u001b[1;33m,\u001b[0m \u001b[1;33m**\u001b[0m\u001b[0mconn_kwargs\u001b[0m\u001b[1;33m)\u001b[0m\u001b[1;33m\u001b[0m\u001b[1;33m\u001b[0m\u001b[0m\n\u001b[0m\u001b[0;32m    987\u001b[0m \u001b[1;33m\u001b[0m\u001b[0m\n\u001b[0;32m    988\u001b[0m         \u001b[0mself\u001b[0m\u001b[1;33m.\u001b[0m\u001b[0mconnection\u001b[0m\u001b[1;33m.\u001b[0m\u001b[0mdriver\u001b[0m \u001b[1;33m=\u001b[0m \u001b[0mself\u001b[0m\u001b[1;33m\u001b[0m\u001b[1;33m\u001b[0m\u001b[0m\n",
      "\u001b[1;32m~\\Anaconda3\\lib\\site-packages\\libcloud\\compute\\drivers\\gce.py\u001b[0m in \u001b[0;36m__init__\u001b[1;34m(self, user_id, key, secure, auth_type, credential_file, project, **kwargs)\u001b[0m\n\u001b[0;32m     99\u001b[0m         super(GCEConnection, self).__init__(\n\u001b[0;32m    100\u001b[0m             \u001b[0muser_id\u001b[0m\u001b[1;33m,\u001b[0m \u001b[0mkey\u001b[0m\u001b[1;33m,\u001b[0m \u001b[0msecure\u001b[0m\u001b[1;33m=\u001b[0m\u001b[0msecure\u001b[0m\u001b[1;33m,\u001b[0m \u001b[0mauth_type\u001b[0m\u001b[1;33m=\u001b[0m\u001b[0mauth_type\u001b[0m\u001b[1;33m,\u001b[0m\u001b[1;33m\u001b[0m\u001b[1;33m\u001b[0m\u001b[0m\n\u001b[1;32m--> 101\u001b[1;33m             credential_file=credential_file, **kwargs)\n\u001b[0m\u001b[0;32m    102\u001b[0m         \u001b[0mself\u001b[0m\u001b[1;33m.\u001b[0m\u001b[0mrequest_path\u001b[0m \u001b[1;33m=\u001b[0m \u001b[1;34m'/compute/%s/projects/%s'\u001b[0m \u001b[1;33m%\u001b[0m \u001b[1;33m(\u001b[0m\u001b[0mAPI_VERSION\u001b[0m\u001b[1;33m,\u001b[0m \u001b[0mproject\u001b[0m\u001b[1;33m)\u001b[0m\u001b[1;33m\u001b[0m\u001b[1;33m\u001b[0m\u001b[0m\n\u001b[0;32m    103\u001b[0m         \u001b[0mself\u001b[0m\u001b[1;33m.\u001b[0m\u001b[0mgce_params\u001b[0m \u001b[1;33m=\u001b[0m \u001b[1;32mNone\u001b[0m\u001b[1;33m\u001b[0m\u001b[1;33m\u001b[0m\u001b[0m\n",
      "\u001b[1;32m~\\Anaconda3\\lib\\site-packages\\libcloud\\common\\google.py\u001b[0m in \u001b[0;36m__init__\u001b[1;34m(self, user_id, key, auth_type, credential_file, scopes, **kwargs)\u001b[0m\n\u001b[0;32m    772\u001b[0m \u001b[1;33m\u001b[0m\u001b[0m\n\u001b[0;32m    773\u001b[0m         self.oauth2_credential = GoogleOAuth2Credential(\n\u001b[1;32m--> 774\u001b[1;33m             user_id, key, auth_type, credential_file, scopes, **kwargs)\n\u001b[0m\u001b[0;32m    775\u001b[0m \u001b[1;33m\u001b[0m\u001b[0m\n\u001b[0;32m    776\u001b[0m         python_ver = '%s.%s.%s' % (sys.version_info[0], sys.version_info[1],\n",
      "\u001b[1;32m~\\Anaconda3\\lib\\site-packages\\libcloud\\common\\google.py\u001b[0m in \u001b[0;36m__init__\u001b[1;34m(self, user_id, key, auth_type, credential_file, scopes, **kwargs)\u001b[0m\n\u001b[0;32m    659\u001b[0m         \u001b[1;32melif\u001b[0m \u001b[0mself\u001b[0m\u001b[1;33m.\u001b[0m\u001b[0mauth_type\u001b[0m \u001b[1;33m==\u001b[0m \u001b[0mGoogleAuthType\u001b[0m\u001b[1;33m.\u001b[0m\u001b[0mSA\u001b[0m\u001b[1;33m:\u001b[0m\u001b[1;33m\u001b[0m\u001b[1;33m\u001b[0m\u001b[0m\n\u001b[0;32m    660\u001b[0m             self.oauth2_conn = GoogleServiceAcctAuthConnection(\n\u001b[1;32m--> 661\u001b[1;33m                 self.user_id, self.key, self.scopes, **kwargs)\n\u001b[0m\u001b[0;32m    662\u001b[0m         \u001b[1;32melif\u001b[0m \u001b[0mself\u001b[0m\u001b[1;33m.\u001b[0m\u001b[0mauth_type\u001b[0m \u001b[1;33m==\u001b[0m \u001b[0mGoogleAuthType\u001b[0m\u001b[1;33m.\u001b[0m\u001b[0mIA\u001b[0m\u001b[1;33m:\u001b[0m\u001b[1;33m\u001b[0m\u001b[1;33m\u001b[0m\u001b[0m\n\u001b[0;32m    663\u001b[0m             self.oauth2_conn = GoogleInstalledAppAuthConnection(\n",
      "\u001b[1;32m~\\Anaconda3\\lib\\site-packages\\libcloud\\common\\google.py\u001b[0m in \u001b[0;36m__init__\u001b[1;34m(self, user_id, key, *args, **kwargs)\u001b[0m\n\u001b[0;32m    491\u001b[0m             \u001b[1;32mif\u001b[0m \u001b[1;32mnot\u001b[0m \u001b[0mis_file_path\u001b[0m\u001b[1;33m:\u001b[0m\u001b[1;33m\u001b[0m\u001b[1;33m\u001b[0m\u001b[0m\n\u001b[0;32m    492\u001b[0m                 raise ValueError(\"Missing (or not readable) key \"\n\u001b[1;32m--> 493\u001b[1;33m                                  \"file: '%s'\" % key)\n\u001b[0m\u001b[0;32m    494\u001b[0m             \u001b[1;32mwith\u001b[0m \u001b[0mopen\u001b[0m\u001b[1;33m(\u001b[0m\u001b[0mkeypath\u001b[0m\u001b[1;33m,\u001b[0m \u001b[1;34m'r'\u001b[0m\u001b[1;33m)\u001b[0m \u001b[1;32mas\u001b[0m \u001b[0mf\u001b[0m\u001b[1;33m:\u001b[0m\u001b[1;33m\u001b[0m\u001b[1;33m\u001b[0m\u001b[0m\n\u001b[0;32m    495\u001b[0m                 \u001b[0mcontents\u001b[0m \u001b[1;33m=\u001b[0m \u001b[0mf\u001b[0m\u001b[1;33m.\u001b[0m\u001b[0mread\u001b[0m\u001b[1;33m(\u001b[0m\u001b[1;33m)\u001b[0m\u001b[1;33m\u001b[0m\u001b[1;33m\u001b[0m\u001b[0m\n",
      "\u001b[1;31mValueError\u001b[0m: Missing (or not readable) key file: 'modul-cloud-computing-44de9085eea8.json'"
     ]
    }
   ],
   "source": [
    "gce = Driver('pyclient@modul-cloud-computing.iam.gserviceaccount.com',\n",
    "             'modul-cloud-computing-44de9085eea8.json',\n",
    "             datacenter='us-east1-b',\n",
    "             project='337991600205')"
   ]
  },
  {
   "cell_type": "code",
   "execution_count": null,
   "metadata": {},
   "outputs": [],
   "source": [
    "gce.list_nodes()"
   ]
  },
  {
   "cell_type": "code",
   "execution_count": null,
   "metadata": {},
   "outputs": [],
   "source": [
    "gce.list_sizes()"
   ]
  },
  {
   "cell_type": "code",
   "execution_count": null,
   "metadata": {},
   "outputs": [],
   "source": [
    "gce.list_images()"
   ]
  },
  {
   "cell_type": "code",
   "execution_count": null,
   "metadata": {},
   "outputs": [],
   "source": [
    "node = gce.create_node(name=\"neue-vm\", image='debian-9-stretch-v20200210', size='f1-micro')"
   ]
  },
  {
   "cell_type": "code",
   "execution_count": null,
   "metadata": {},
   "outputs": [],
   "source": [
    "node.destroy();"
   ]
  }
 ],
 "metadata": {
  "kernelspec": {
   "display_name": "Python 3",
   "language": "python",
   "name": "python3"
  },
  "language_info": {
   "codemirror_mode": {
    "name": "ipython",
    "version": 3
   },
   "file_extension": ".py",
   "mimetype": "text/x-python",
   "name": "python",
   "nbconvert_exporter": "python",
   "pygments_lexer": "ipython3",
   "version": "3.7.6"
  }
 },
 "nbformat": 4,
 "nbformat_minor": 4
}
