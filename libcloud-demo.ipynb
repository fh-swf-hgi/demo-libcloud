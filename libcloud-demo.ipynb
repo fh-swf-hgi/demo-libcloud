{
 "cells": [
  {
   "cell_type": "code",
   "execution_count": null,
   "metadata": {},
   "outputs": [],
   "source": [
    "!pip install apache-libcloud\n",
    "from libcloud.compute.types import Provider\n",
    "from libcloud.compute.providers import get_driver\n",
    "Driver = get_driver(Provider.GCE)\n",
    "gce = Driver('pyclient@modul-cloud-computing.iam.gserviceaccount.com',\n",
    "             'modul-cloud-computing-44de9085eea8.json',\n",
    "             datacenter='us-east1-b',\n",
    "             project='337991600205')\n",
    "gce.list_nodes()\n",
    "gce.list_sizes()\n",
    "gce.list_images()\n",
    "node = gce.create_node(name=\"neue-vm\", image='debian-9-stretch-v20200210', size='f1-micro')\n",
    "node.destroy();"
   ]
  }
 ],
 "metadata": {
  "kernelspec": {
   "display_name": "Python 3",
   "language": "python",
   "name": "python3"
  },
  "language_info": {
   "codemirror_mode": {
    "name": "ipython",
    "version": 3
   },
   "file_extension": ".py",
   "mimetype": "text/x-python",
   "name": "python",
   "nbconvert_exporter": "python",
   "pygments_lexer": "ipython3",
   "version": "3.7.6"
  }
 },
 "nbformat": 4,
 "nbformat_minor": 4
}
